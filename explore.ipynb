{
 "cells": [
  {
   "cell_type": "markdown",
   "metadata": {},
   "source": [
    "# Explore the Spacer API"
   ]
  },
  {
   "cell_type": "code",
   "execution_count": 1,
   "metadata": {},
   "outputs": [],
   "source": [
    "import pandas as pd\n",
    "\n",
    "from spacer import Posts, Threads, config"
   ]
  },
  {
   "cell_type": "markdown",
   "metadata": {},
   "source": [
    "## Configuration\n",
    "\n",
    "*config* exposes configuration options for the http requests that can be set by the user.\n",
    "\n",
    "The values below are the default values:"
   ]
  },
  {
   "cell_type": "code",
   "execution_count": 2,
   "metadata": {},
   "outputs": [],
   "source": [
    "config.max_retries = 0  # how often the program attempts to retry after failure\n",
    "config.retry_backoff_factor = 0.1  # determines delay between retries: https://urllib3.readthedocs.io/en/stable/reference/urllib3.util.html\n",
    "config.retry_http_codes = [429, 500, 503]  # error codes after which to retry\n",
    "config.persist = True  # store posts and user data in sqlite db after extraction"
   ]
  },
  {
   "cell_type": "markdown",
   "metadata": {},
   "source": [
    "## Extract threads from a forum"
   ]
  },
  {
   "cell_type": "code",
   "execution_count": 3,
   "metadata": {},
   "outputs": [],
   "source": [
    "forum = 'space-travel-spacex.47'"
   ]
  },
  {
   "cell_type": "code",
   "execution_count": 4,
   "metadata": {},
   "outputs": [],
   "source": [
    "# Retrieve and extract only the first page\n",
    "threads = Threads().get(forum).extract()"
   ]
  },
  {
   "cell_type": "code",
   "execution_count": 5,
   "metadata": {},
   "outputs": [
    {
     "data": {
      "text/plain": [
       "'nasas-perseverance-is-exploring-mars-come-watch-updates-with-us.37226'"
      ]
     },
     "execution_count": 5,
     "metadata": {},
     "output_type": "execute_result"
    }
   ],
   "source": [
    "threads[0]"
   ]
  },
  {
   "cell_type": "code",
   "execution_count": 6,
   "metadata": {},
   "outputs": [],
   "source": [
    "# Retrieve and extract all pages using loop\n",
    "pages = Threads().paginate(forum)\n",
    "all_threads = []\n",
    "for page in pages:\n",
    "    all_threads.extend(page.extract())"
   ]
  },
  {
   "cell_type": "code",
   "execution_count": 7,
   "metadata": {},
   "outputs": [
    {
     "data": {
      "text/plain": [
       "2664"
      ]
     },
     "execution_count": 7,
     "metadata": {},
     "output_type": "execute_result"
    }
   ],
   "source": [
    "len(all_threads)"
   ]
  },
  {
   "cell_type": "markdown",
   "metadata": {},
   "source": [
    "## Extract posts (and users) from a thread"
   ]
  },
  {
   "cell_type": "code",
   "execution_count": 8,
   "metadata": {},
   "outputs": [],
   "source": [
    "thread = threads[0]"
   ]
  },
  {
   "cell_type": "code",
   "execution_count": 9,
   "metadata": {},
   "outputs": [],
   "source": [
    "# Retrieve and extract the first page\n",
    "posts, users = Posts().get(thread).extract()"
   ]
  },
  {
   "cell_type": "code",
   "execution_count": 10,
   "metadata": {},
   "outputs": [
    {
     "name": "stdout",
     "output_type": "stream",
     "text": [
      "Index(['id', 'user_id', 'username', 'thread', 'message', 'likes',\n",
      "       'time_posted'],\n",
      "      dtype='object')\n"
     ]
    }
   ],
   "source": [
    "# Use pandas to turn into dataframe\n",
    "df_posts = pd.DataFrame(posts)\n",
    "print(df_posts.columns)"
   ]
  },
  {
   "cell_type": "code",
   "execution_count": 11,
   "metadata": {},
   "outputs": [
    {
     "name": "stdout",
     "output_type": "stream",
     "text": [
      "Index(['id', 'username', 'role', 'join_date', 'messages', 'reaction_score',\n",
      "       'points'],\n",
      "      dtype='object')\n"
     ]
    }
   ],
   "source": [
    "# Same for users\n",
    "df_users = pd.DataFrame(users)\n",
    "print(df_users.columns)"
   ]
  },
  {
   "cell_type": "code",
   "execution_count": 12,
   "metadata": {},
   "outputs": [],
   "source": [
    "# Retrieve and extract all pages using loop\n",
    "pages = Posts().paginate(thread)\n",
    "all_posts = []\n",
    "all_users = []\n",
    "for page in pages:\n",
    "    posts, users = page.extract()\n",
    "    all_posts.extend(posts)\n",
    "    all_users.extend(users)"
   ]
  },
  {
   "cell_type": "code",
   "execution_count": 20,
   "metadata": {},
   "outputs": [],
   "source": [
    "data = pd.DataFrame(all_posts)"
   ]
  },
  {
   "cell_type": "code",
   "execution_count": 21,
   "metadata": {},
   "outputs": [
    {
     "data": {
      "text/plain": [
       "133"
      ]
     },
     "execution_count": 21,
     "metadata": {},
     "output_type": "execute_result"
    }
   ],
   "source": [
    "len(data)"
   ]
  },
  {
   "cell_type": "markdown",
   "metadata": {},
   "source": [
    "## Interact with the database\n",
    "\n",
    "By default, data is stored in a sqlite database called spacer.db\n",
    "\n",
    "We can interact with that database to retrieve data we have already scraped/extracted:"
   ]
  },
  {
   "cell_type": "code",
   "execution_count": 15,
   "metadata": {},
   "outputs": [],
   "source": [
    "import pandas as pd\n",
    "\n",
    "from spacer import models as m"
   ]
  },
  {
   "cell_type": "code",
   "execution_count": 16,
   "metadata": {},
   "outputs": [
    {
     "name": "stdout",
     "output_type": "stream",
     "text": [
      "Index(['id', 'user_id', 'username', 'thread', 'message', 'likes',\n",
      "       'time_posted', 'last_updated'],\n",
      "      dtype='object')\n"
     ]
    }
   ],
   "source": [
    "# Get all posts in thread\n",
    "thread = 'nasas-perseverance-is-exploring-mars-come-watch-updates-with-us.37226'\n",
    "\n",
    "p = m.get_posts_by_thread(thread)\n",
    "df_p = pd.DataFrame(p.dicts())\n",
    "print(df_p.columns)"
   ]
  },
  {
   "cell_type": "code",
   "execution_count": 17,
   "metadata": {},
   "outputs": [
    {
     "name": "stdout",
     "output_type": "stream",
     "text": [
      "Index(['id', 'username', 'role', 'join_date', 'messages', 'reaction_score',\n",
      "       'points', 'last_updated'],\n",
      "      dtype='object')\n"
     ]
    }
   ],
   "source": [
    "# Get entire user table\n",
    "u = m.get_all_users()\n",
    "df_u = pd.DataFrame(u.dicts())\n",
    "print(df_u.columns)"
   ]
  },
  {
   "cell_type": "code",
   "execution_count": 18,
   "metadata": {},
   "outputs": [
    {
     "name": "stdout",
     "output_type": "stream",
     "text": [
      "4\n"
     ]
    }
   ],
   "source": [
    "# Get first user's posts\n",
    "df_u1_posts = pd.DataFrame(u[0].posts.dicts())\n",
    "print(len(df_u1_posts))"
   ]
  },
  {
   "cell_type": "code",
   "execution_count": 19,
   "metadata": {},
   "outputs": [],
   "source": [
    "# Get user by name\n",
    "u2 = m.get_user_by_name('C0MMANDER C0DY')\n",
    "df_u2 = pd.DataFrame(u2.dicts())"
   ]
  }
 ],
 "metadata": {
  "kernelspec": {
   "display_name": ".venv",
   "language": "python",
   "name": "python3"
  },
  "language_info": {
   "codemirror_mode": {
    "name": "ipython",
    "version": 3
   },
   "file_extension": ".py",
   "mimetype": "text/x-python",
   "name": "python",
   "nbconvert_exporter": "python",
   "pygments_lexer": "ipython3",
   "version": "3.11.9"
  }
 },
 "nbformat": 4,
 "nbformat_minor": 2
}
