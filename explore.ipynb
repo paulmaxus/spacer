{
 "cells": [
  {
   "cell_type": "code",
   "execution_count": 1,
   "metadata": {},
   "outputs": [],
   "source": [
    "from spacer import Spacer\n"
   ]
  },
  {
   "cell_type": "code",
   "execution_count": 3,
   "metadata": {},
   "outputs": [],
   "source": [
    "spacer = Spacer()\n",
    "\n",
    "soup = spacer.get_posts('nasas-perseverance-is-exploring-mars-come-watch-updates-with-us.37226', 1)"
   ]
  },
  {
   "cell_type": "code",
   "execution_count": 17,
   "metadata": {},
   "outputs": [],
   "source": [
    "boxes = soup.find_all(\"div\", class_=\"message-userContent lbContainer js-lbContainer\")\n",
    "posts = []\n",
    "for box in boxes:\n",
    "    meta = box['data-lb-caption-desc'].split(' · ')\n",
    "    user, timestamp = meta[0], meta[1]\n",
    "    post = box.text\n",
    "    posts.append(\n",
    "        {\n",
    "            'user': user,\n",
    "            'time': timestamp,\n",
    "            'post': post\n",
    "        }\n",
    "    )"
   ]
  },
  {
   "cell_type": "code",
   "execution_count": null,
   "metadata": {},
   "outputs": [],
   "source": []
  }
 ],
 "metadata": {
  "kernelspec": {
   "display_name": ".venv",
   "language": "python",
   "name": "python3"
  },
  "language_info": {
   "codemirror_mode": {
    "name": "ipython",
    "version": 3
   },
   "file_extension": ".py",
   "mimetype": "text/x-python",
   "name": "python",
   "nbconvert_exporter": "python",
   "pygments_lexer": "ipython3",
   "version": "3.11.9"
  }
 },
 "nbformat": 4,
 "nbformat_minor": 2
}
